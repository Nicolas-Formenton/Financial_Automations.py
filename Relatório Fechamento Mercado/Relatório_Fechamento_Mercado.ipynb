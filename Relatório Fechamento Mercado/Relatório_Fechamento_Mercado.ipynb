{
 "cells": [
  {
   "cell_type": "code",
   "execution_count": null,
   "metadata": {},
   "outputs": [],
   "source": [
    "%pip install yfinance==0.1.74\n",
    "%pip install mplcyberpunk\n",
    "%pip install pywin32"
   ]
  },
  {
   "cell_type": "code",
   "execution_count": null,
   "metadata": {},
   "outputs": [],
   "source": [
    "import pandas as pd\n",
    "import datetime\n",
    "import yfinance as yf\n",
    "from matplotlib import pyplot as plt\n",
    "import mplcyberpunk\n",
    "import win32com.client as win32"
   ]
  },
  {
   "cell_type": "code",
   "execution_count": null,
   "metadata": {},
   "outputs": [],
   "source": [
    "tickers = [\"BTC-USD\", \"ETH-USD\", \"^GSPC\", \"BRL=X\"]\n",
    "\n",
    "hoje = datetime.datetime.now()\n",
    "um_ano_atras = hoje - datetime.timedelta(days=365)\n",
    "\n",
    "dados_mercado = yf.download(tickers, um_ano_atras, hoje)\n",
    "\n",
    "display(dados_mercado)"
   ]
  },
  {
   "cell_type": "code",
   "execution_count": null,
   "metadata": {},
   "outputs": [],
   "source": [
    "dados_fechamento = dados_mercado['Adj Close']\n",
    "\n",
    "\n",
    "dados_fechamento.columns = ['Dólar', 'Bitcoin', 'Ethereum', 'SP500']\n",
    "\n",
    "# .dropna() serve p tirar os dados vazios \"NaN\"\n",
    "# dados_fechamento = dados_fechamento.dropna()\n",
    "#primeiros 50 dados\n",
    "# dados_fechamento.head(50)\n",
    "\n",
    "dados_fechamento"
   ]
  },
  {
   "cell_type": "code",
   "execution_count": null,
   "metadata": {},
   "outputs": [],
   "source": [
    "#Criando timeframes\n",
    "# Trocando o Y no resample para D, W, M, Q, Y\n",
    "# .last() é para pegar o fechamento, poderia ser .sum(), .mean(), e por aí vaí\n",
    "dados_anuais = dados_fechamento.resample(\"Y\").last()\n",
    "\n",
    "dados_mensais = dados_fechamento.resample(\"M\").last()\n",
    "\n",
    "display(dados_anuais, dados_mensais)\n",
    "# dados_mensais"
   ]
  },
  {
   "cell_type": "code",
   "execution_count": null,
   "metadata": {},
   "outputs": [],
   "source": [
    "# Calculando retorno anual, mensal, diario, semanal\n",
    "retorno_anual = dados_anuais.pct_change().dropna()\n",
    "\n",
    "retorno_mensal = dados_mensais.pct_change().dropna()\n",
    "\n",
    "retorno_diario = dados_fechamento.pct_change().dropna()\n",
    "\n",
    "retorno_semanal = dados_fechamento.resample(\"W\").last().pct_change().dropna()\n",
    "\n",
    "display(retorno_anual, retorno_mensal, retorno_semanal , retorno_diario)"
   ]
  },
  {
   "cell_type": "code",
   "execution_count": null,
   "metadata": {},
   "outputs": [],
   "source": [
    "# loc -> referencia elementos a partir do nome\n",
    "# iloc -> seleciona elementos como uma matriz\n",
    "\n",
    "# # Exemplos\n",
    "# retornoDia_2023_02_02 = retorno_diario.loc['2023-02-02', 'Bitcoin']\n",
    "# # \n",
    "\n",
    "# # Matriz[Linha, Coluna] -> Contagem começa a partir do 0\n",
    "# retornoDia_2023_02_02_iloc = retorno_diario.iloc[1, 3]\n",
    "# display(retornoDia_2023_02_02, retornoDia_2023_02_02_iloc)\n",
    "\n",
    "\n",
    "\n",
    "# Loop feito para melhorar a leitura e resumir, transformei em porcentagem ao multiplicar por 100, e arredondei para 2 casas decimais com round(x, 2)\n",
    "intervals = ['diario', 'semanal', 'mensal', 'anual']\n",
    "interval_dicts = {}\n",
    "for interval in intervals:\n",
    "    retorno_interval = eval(\"retorno_\" + interval)\n",
    "    retorno_interval_dolar = round(retorno_interval.iloc[-1, 0] * 100, 2)\n",
    "    retorno_interval_bitcoin = round(retorno_interval.iloc[-1, 1] * 100, 2)\n",
    "    retorno_interval_ethereum = round(retorno_interval.iloc[-1, 2] * 100, 2)\n",
    "    retorno_interval_sp500 = round(retorno_interval.iloc[-1, 3] * 100, 2)\n",
    "    interval_dicts[interval] = {\"dolar\": retorno_interval_dolar, \"bitcoin\": retorno_interval_bitcoin,\n",
    "                                \"ethereum\": retorno_interval_ethereum, \"sp500\": retorno_interval_sp500}\n",
    "\n",
    "# acessando informações de um determinado intervalo (diario) [Exemplo]\n",
    "interval = \"anual\"\n",
    "retorno_interval_dolar = interval_dicts[interval][\"dolar\"]\n",
    "retorno_interval_bitcoin = interval_dicts[interval][\"bitcoin\"]\n",
    "retorno_interval_ethereum = interval_dicts[interval][\"ethereum\"]\n",
    "retorno_interval_sp500 = interval_dicts[interval][\"sp500\"]\n",
    "\n",
    "\n",
    "display([retorno_interval_dolar, retorno_interval_bitcoin, retorno_interval_ethereum, retorno_interval_sp500])\n"
   ]
  },
  {
   "cell_type": "code",
   "execution_count": null,
   "metadata": {},
   "outputs": [],
   "source": [
    "# Criar os gráficos a partir dos dados\n",
    "\n",
    "# Definindo o tema do grafico\n",
    "plt.style.use(\"cyberpunk\")\n",
    "\n",
    "dados_fechamento.plot(y=\"Bitcoin\", use_index = True, legend = False)\n",
    "\n",
    "plt.title(\"BTC/USD\")\n",
    "\n",
    "plt.savefig(\"Bitcoin.png\", dpi = 300)\n",
    "plt.show()"
   ]
  },
  {
   "cell_type": "code",
   "execution_count": null,
   "metadata": {},
   "outputs": [],
   "source": [
    "# Criar os gráficos a partir dos dados\n",
    "\n",
    "# Definindo o tema do grafico\n",
    "plt.style.use(\"cyberpunk\")\n",
    "\n",
    "dados_fechamento.plot(y=\"Dólar\", use_index = True, legend = False)\n",
    "\n",
    "plt.title(\"USD/BRL\")\n",
    "\n",
    "plt.savefig(\"Dólar.png\", dpi = 300)\n",
    "plt.show()"
   ]
  },
  {
   "cell_type": "code",
   "execution_count": null,
   "metadata": {},
   "outputs": [],
   "source": [
    "# Criar os gráficos a partir dos dados\n",
    "\n",
    "# Definindo o tema do grafico\n",
    "plt.style.use(\"cyberpunk\")\n",
    "\n",
    "dados_fechamento.plot(y=\"Ethereum\", use_index = True, legend = False)\n",
    "\n",
    "plt.title(\"ETH/USD\")\n",
    "\n",
    "plt.savefig(\"Ethereum.png\", dpi = 300)\n",
    "plt.show()"
   ]
  },
  {
   "cell_type": "code",
   "execution_count": null,
   "metadata": {},
   "outputs": [],
   "source": [
    "# Criar os gráficos a partir dos dados\n",
    "\n",
    "# Definindo o tema do grafico\n",
    "plt.style.use(\"cyberpunk\")\n",
    "\n",
    "dados_fechamento.plot(y=\"SP500\", use_index = True, legend = False)\n",
    "\n",
    "plt.title(\"SP500/USD\")\n",
    "\n",
    "plt.savefig(\"SP500.png\", dpi = 300)\n",
    "plt.show()"
   ]
  },
  {
   "cell_type": "code",
   "execution_count": null,
   "metadata": {},
   "outputs": [],
   "source": [
    "print(f'''\n",
    "Prezado diretor, segue o relatório diário:\n",
    "\n",
    "Bolsa:\n",
    "\n",
    "No ano o SP500 está tendo uma rentabilidade de {interval_dicts[\"anual\"][\"sp500\"]}%, \n",
    "enquanto no mês a rentabilidade é de {interval_dicts[\"mensal\"][\"sp500\"]}%.\n",
    "\n",
    "No último dia útil, o fechamento do SP500 foi de {interval_dicts[\"diario\"][\"sp500\"]}%.\n",
    "\n",
    "Dólar:\n",
    "\n",
    "No ano o Dólar está tendo uma rentabilidade de {interval_dicts[\"anual\"][\"dolar\"]}%, \n",
    "enquanto no mês a rentabilidade é de {interval_dicts[\"mensal\"][\"dolar\"]}%.\n",
    "\n",
    "No último dia útil, o fechamento do Dólar foi de {interval_dicts[\"diario\"][\"dolar\"]}%.\n",
    "\n",
    "Criptomoedas:\n",
    "\n",
    "No ano, o Bitcoin está tendo uma rentabilidade de {interval_dicts[\"anual\"][\"bitcoin\"]}%,\n",
    "enquanto no mês a rentabilidade é de {interval_dicts[\"mensal\"][\"bitcoin\"]}%.\n",
    "\n",
    "Já o Ethereum, está tendo uma rentabilidade anual de {interval_dicts[\"anual\"][\"ethereum\"]}%,\n",
    "enquanto no mês a rentabilidade é de {interval_dicts[\"mensal\"][\"ethereum\"]}%.\n",
    "\n",
    "A respeito das rentabilidades diárias, Bitcoin terminou o dia retornando {interval_dicts[\"diario\"][\"bitcoin\"]}%,\n",
    "enquanto o Ethereum terminou o dia retornando {interval_dicts[\"diario\"][\"ethereum\"]}%.\n",
    "\n",
    "Abs,\n",
    "\n",
    "O melhor estagiário do mundo\n",
    "\n",
    "''')"
   ]
  },
  {
   "cell_type": "code",
   "execution_count": 23,
   "metadata": {},
   "outputs": [
    {
     "ename": "com_error",
     "evalue": "(-2147221005, 'Invalid class string', None, None)",
     "output_type": "error",
     "traceback": [
      "\u001b[1;31m---------------------------------------------------------------------------\u001b[0m",
      "\u001b[1;31mcom_error\u001b[0m                                 Traceback (most recent call last)",
      "File \u001b[1;32mc:\\Users\\nicol\\AppData\\Local\\Programs\\Python\\Python310\\lib\\site-packages\\win32com\\client\\dynamic.py:86\u001b[0m, in \u001b[0;36m_GetGoodDispatch\u001b[1;34m(IDispatch, clsctx)\u001b[0m\n\u001b[0;32m     85\u001b[0m \u001b[39mtry\u001b[39;00m:\n\u001b[1;32m---> 86\u001b[0m     IDispatch \u001b[39m=\u001b[39m pythoncom\u001b[39m.\u001b[39;49mconnect(IDispatch)\n\u001b[0;32m     87\u001b[0m \u001b[39mexcept\u001b[39;00m pythoncom\u001b[39m.\u001b[39mole_error:\n",
      "\u001b[1;31mcom_error\u001b[0m: (-2147221005, 'Invalid class string', None, None)",
      "\nDuring handling of the above exception, another exception occurred:\n",
      "\u001b[1;31mcom_error\u001b[0m                                 Traceback (most recent call last)",
      "Cell \u001b[1;32mIn[23], line 2\u001b[0m\n\u001b[0;32m      1\u001b[0m \u001b[39m# Maneira de enviar email pelo WINDOWS\u001b[39;00m\n\u001b[1;32m----> 2\u001b[0m outlook \u001b[39m=\u001b[39m win32\u001b[39m.\u001b[39;49mDispatch(\u001b[39m'\u001b[39;49m\u001b[39moutlook.application\u001b[39;49m\u001b[39m'\u001b[39;49m)\n\u001b[0;32m      4\u001b[0m mail \u001b[39m=\u001b[39m outlook\u001b[39m.\u001b[39mCreateItem(\u001b[39m0\u001b[39m)\n\u001b[0;32m      6\u001b[0m mail\u001b[39m.\u001b[39mSubject \u001b[39m=\u001b[39m \u001b[39m\"\u001b[39m\u001b[39mRelatório Diário de \u001b[39m\u001b[39m\"\u001b[39m \u001b[39m+\u001b[39m datetime\u001b[39m.\u001b[39mnow()\u001b[39m.\u001b[39mstrftime(\u001b[39m'\u001b[39m\u001b[39m%#d\u001b[39;00m\u001b[39m \u001b[39m\u001b[39m%\u001b[39m\u001b[39mb \u001b[39m\u001b[39m%\u001b[39m\u001b[39mY \u001b[39m\u001b[39m%\u001b[39m\u001b[39mH:\u001b[39m\u001b[39m%\u001b[39m\u001b[39mM\u001b[39m\u001b[39m'\u001b[39m)\n",
      "File \u001b[1;32mc:\\Users\\nicol\\AppData\\Local\\Programs\\Python\\Python310\\lib\\site-packages\\win32com\\client\\__init__.py:117\u001b[0m, in \u001b[0;36mDispatch\u001b[1;34m(dispatch, userName, resultCLSID, typeinfo, UnicodeToString, clsctx)\u001b[0m\n\u001b[0;32m    115\u001b[0m \u001b[39m\u001b[39m\u001b[39m\"\"\"Creates a Dispatch based COM object.\"\"\"\u001b[39;00m\n\u001b[0;32m    116\u001b[0m \u001b[39massert\u001b[39;00m UnicodeToString \u001b[39mis\u001b[39;00m \u001b[39mNone\u001b[39;00m, \u001b[39m\"\u001b[39m\u001b[39mthis is deprecated and will go away\u001b[39m\u001b[39m\"\u001b[39m\n\u001b[1;32m--> 117\u001b[0m dispatch, userName \u001b[39m=\u001b[39m dynamic\u001b[39m.\u001b[39;49m_GetGoodDispatchAndUserName(dispatch, userName, clsctx)\n\u001b[0;32m    118\u001b[0m \u001b[39mreturn\u001b[39;00m __WrapDispatch(dispatch, userName, resultCLSID, typeinfo, clsctx\u001b[39m=\u001b[39mclsctx)\n",
      "File \u001b[1;32mc:\\Users\\nicol\\AppData\\Local\\Programs\\Python\\Python310\\lib\\site-packages\\win32com\\client\\dynamic.py:106\u001b[0m, in \u001b[0;36m_GetGoodDispatchAndUserName\u001b[1;34m(IDispatch, userName, clsctx)\u001b[0m\n\u001b[0;32m    103\u001b[0m     \u001b[39m## ??? else userName remains None ???\u001b[39;00m\n\u001b[0;32m    104\u001b[0m \u001b[39melse\u001b[39;00m:\n\u001b[0;32m    105\u001b[0m     userName \u001b[39m=\u001b[39m \u001b[39mstr\u001b[39m(userName)\n\u001b[1;32m--> 106\u001b[0m \u001b[39mreturn\u001b[39;00m (_GetGoodDispatch(IDispatch, clsctx), userName)\n",
      "File \u001b[1;32mc:\\Users\\nicol\\AppData\\Local\\Programs\\Python\\Python310\\lib\\site-packages\\win32com\\client\\dynamic.py:88\u001b[0m, in \u001b[0;36m_GetGoodDispatch\u001b[1;34m(IDispatch, clsctx)\u001b[0m\n\u001b[0;32m     86\u001b[0m         IDispatch \u001b[39m=\u001b[39m pythoncom\u001b[39m.\u001b[39mconnect(IDispatch)\n\u001b[0;32m     87\u001b[0m     \u001b[39mexcept\u001b[39;00m pythoncom\u001b[39m.\u001b[39mole_error:\n\u001b[1;32m---> 88\u001b[0m         IDispatch \u001b[39m=\u001b[39m pythoncom\u001b[39m.\u001b[39;49mCoCreateInstance(\n\u001b[0;32m     89\u001b[0m             IDispatch, \u001b[39mNone\u001b[39;49;00m, clsctx, pythoncom\u001b[39m.\u001b[39;49mIID_IDispatch\n\u001b[0;32m     90\u001b[0m         )\n\u001b[0;32m     91\u001b[0m \u001b[39melse\u001b[39;00m:\n\u001b[0;32m     92\u001b[0m     \u001b[39m# may already be a wrapped class.\u001b[39;00m\n\u001b[0;32m     93\u001b[0m     IDispatch \u001b[39m=\u001b[39m \u001b[39mgetattr\u001b[39m(IDispatch, \u001b[39m\"\u001b[39m\u001b[39m_oleobj_\u001b[39m\u001b[39m\"\u001b[39m, IDispatch)\n",
      "\u001b[1;31mcom_error\u001b[0m: (-2147221005, 'Invalid class string', None, None)"
     ]
    }
   ],
   "source": [
    "# Maneira de enviar email pelo WINDOWS\n",
    "outlook = win32.Dispatch('outlook.application')\n",
    "\n",
    "mail = outlook.CreateItem(0)\n",
    "\n",
    "mail.Subject = \"Relatório Diário de \" + datetime.now().strftime('%#d %b %Y %H:%M')\n",
    "mail.To = \"nformenton@gmail.com\"\n",
    "mail.Body = f'''Prezado diretor, segue o relatório diário:\n",
    "\n",
    "Bolsa:\n",
    "\n",
    "No ano o SP500 está tendo uma rentabilidade de {interval_dicts[\"anual\"][\"sp500\"]}%, \n",
    "enquanto no mês a rentabilidade é de {interval_dicts[\"mensal\"][\"sp500\"]}%.\n",
    "\n",
    "No último dia útil, o fechamento do SP500 foi de {interval_dicts[\"diario\"][\"sp500\"]}%.\n",
    "\n",
    "Dólar:\n",
    "\n",
    "No ano o Dólar está tendo uma rentabilidade de {interval_dicts[\"anual\"][\"dolar\"]}%, \n",
    "enquanto no mês a rentabilidade é de {interval_dicts[\"mensal\"][\"dolar\"]}%.\n",
    "\n",
    "No último dia útil, o fechamento do Dólar foi de {interval_dicts[\"diario\"][\"dolar\"]}%.\n",
    "\n",
    "Criptomoedas:\n",
    "\n",
    "No ano, o Bitcoin está tendo uma rentabilidade de {interval_dicts[\"anual\"][\"bitcoin\"]}%,\n",
    "enquanto no mês a rentabilidade é de {interval_dicts[\"mensal\"][\"bitcoin\"]}%.\n",
    "\n",
    "Já o Ethereum, está tendo uma rentabilidade anual de {interval_dicts[\"anual\"][\"ethereum\"]}%,\n",
    "enquanto no mês a rentabilidade é de {interval_dicts[\"mensal\"][\"ethereum\"]}%.\n",
    "\n",
    "A respeito das rentabilidades diárias, Bitcoin terminou o dia retornando {interval_dicts[\"diario\"][\"bitcoin\"]}%,\n",
    "enquanto o Ethereum terminou o dia retornando {interval_dicts[\"diario\"][\"ethereum\"]}%.\n",
    "\n",
    "Abs,\n",
    "\n",
    "O melhor estagiário do mundo\n",
    "\n",
    "'''\n",
    "\n",
    "print(mail.Body)\n",
    "\n",
    "# Windows\n",
    "anexo_dolar = r\"C:\\Dev\\Python - DB1\\Dólar.png\"\n",
    "anexo_bitcoin = r\"C:\\Dev\\Python - DB1\\Bitcoin.png\"\n",
    "anexo_ethereum = r\"C:\\Dev\\Python - DB1\\Ethereum.png\"\n",
    "anexo_sp500 = r\"C:\\Dev\\Python - DB1\\SP500.png\"\n",
    "# \n",
    "\n",
    "# Linux\n",
    "# anexo_dolar = r'/home/nicolas/dev/BOT.Camp - Python/Dólar.png'\n",
    "# anexo_bitcoin = r'/home/nicolas/dev/BOT.Camp - Python/Bitcoin.png'\n",
    "# anexo_ethereum = r'/home/nicolas/dev/BOT.Camp - Python/Ethereum.png'\n",
    "# anexo_sp500 = r'/home/nicolas/dev/BOT.Camp - Python/SP500.png'\n",
    "# \n",
    "\n",
    "mail.Attachments.Add(anexo_dolar)\n",
    "mail.Attachments.Add(anexo_sp500)\n",
    "mail.Attachments.Add(anexo_bitcoin)\n",
    "mail.Attachments.Add(anexo_ethereum)\n",
    "\n",
    "mail.Send()\n"
   ]
  },
  {
   "cell_type": "code",
   "execution_count": null,
   "metadata": {},
   "outputs": [],
   "source": [
    "outlook = win32.Dispatch('Outlook.Application')"
   ]
  },
  {
   "cell_type": "code",
   "execution_count": null,
   "metadata": {},
   "outputs": [],
   "source": []
  }
 ],
 "metadata": {
  "kernelspec": {
   "display_name": "Python 3",
   "language": "python",
   "name": "python3"
  },
  "language_info": {
   "codemirror_mode": {
    "name": "ipython",
    "version": 3
   },
   "file_extension": ".py",
   "mimetype": "text/x-python",
   "name": "python",
   "nbconvert_exporter": "python",
   "pygments_lexer": "ipython3",
   "version": "3.10.9"
  },
  "orig_nbformat": 4,
  "vscode": {
   "interpreter": {
    "hash": "85c576d62e5a69baba7dcae6282c7bf6fba6f8d537c9cbb11ca984aece3c77a0"
   }
  }
 },
 "nbformat": 4,
 "nbformat_minor": 2
}
