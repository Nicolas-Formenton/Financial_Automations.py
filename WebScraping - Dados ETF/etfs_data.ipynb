{
 "cells": [
  {
   "cell_type": "code",
   "execution_count": null,
   "metadata": {},
   "outputs": [],
   "source": [
    "# %pip install webdriver-manager\n",
    "# %pip install selenium\n",
    "# %pip install html5lib"
   ]
  },
  {
   "cell_type": "code",
   "execution_count": null,
   "metadata": {},
   "outputs": [],
   "source": [
    "# Neste caso, irei usar o Chrome\n",
    "\n",
    "from selenium import webdriver\n",
    "from selenium.webdriver.chrome.service import Service\n",
    "from webdriver_manager.chrome import ChromeDriverManager\n",
    "import time\n",
    "import pandas as pd"
   ]
  },
  {
   "cell_type": "code",
   "execution_count": null,
   "metadata": {},
   "outputs": [],
   "source": [
    "driver = webdriver.Chrome(service=Service(ChromeDriverManager().install()))\n",
    "\n",
    "url = \"https://www.etf.com/etfanalytics/etf-finder\"\n",
    "\n",
    "# Abrir o site(url)\n",
    "driver.get(url)"
   ]
  },
  {
   "cell_type": "code",
   "execution_count": null,
   "metadata": {},
   "outputs": [],
   "source": [
    "# Clicando no lenght da pagina em 100 itens/pagina\n",
    "time.sleep(5)\n",
    "\n",
    "button_100_itens = driver.find_element(\"xpath\", '''/html/body/div[5]/section/div/div[3]/section/div/div/div/div/div[2]/section[2]/div[2]/section[2]/div[1]/div/div[4]/button/label/span''')\n",
    "\n",
    "driver.execute_script(\"arguments[0].click();\", button_100_itens)"
   ]
  },
  {
   "cell_type": "code",
   "execution_count": null,
   "metadata": {},
   "outputs": [],
   "source": [
    "# Pegando o número de páginas no HTML\n",
    "numero_paginas = driver.find_element(\"xpath\", '''/html/body/div[5]/section/div/div[3]/section/div/div/div/div/div[2]/section[2]/div[2]/section[2]/div[2]/div/label[2]''')\n",
    "\n",
    "numero_paginas = numero_paginas.text.replace(\"of \", \"\")\n",
    "numero_paginas = int(numero_paginas)\n",
    "print(numero_paginas)"
   ]
  },
  {
   "cell_type": "code",
   "execution_count": null,
   "metadata": {},
   "outputs": [],
   "source": [
    "lista_de_tabelas_por_pagina = []\n",
    "\n",
    "for pagina in range(0, numero_paginas):\n",
    "\n",
    "    # Lendo a tabela\n",
    "    tabela = driver.find_element(\"xpath\", '''/html/body/div[5]/section/div/div[3]/section/div/div/div/div/div[2]/section[2]/div[2]/div/table''')\n",
    "\n",
    "    # Pegando todo html\n",
    "    html_tabela = tabela.get_attribute(\"outerHTML\")\n",
    "\n",
    "    tabela_final = pd.read_html(html_tabela)[0]\n",
    "    display(tabela_final)\n",
    "\n",
    "    lista_de_tabelas_por_pagina.append(tabela_final)\n",
    "\n",
    "    avancar_pagina = driver.find_element(\"xpath\", '''//*[@id=\"nextPage\"]''')\n",
    "    driver.execute_script(\"arguments[0].click()\", avancar_pagina)\n",
    "\n",
    "base_de_dados_completa = pd.concat(lista_de_tabelas_por_pagina)\n",
    "\n",
    "display(base_de_dados_completa)"
   ]
  },
  {
   "cell_type": "code",
   "execution_count": null,
   "metadata": {},
   "outputs": [],
   "source": [
    "# Trocando aba -> Performance\n",
    "\n",
    "botao_aba = driver.find_element(\"xpath\", '''//*[@id=\"table-tabs\"]/li[2]/span''')\n",
    "driver.execute_script(\"arguments[0].click();\", botao_aba)\n",
    "\n",
    "# Voltando a 1 página\n",
    "for pagina in range(0, numero_paginas):\n",
    "    \n",
    "    botao_voltar_pagina = driver.find_element(\"xpath\", '//*[@id=\"previousPage\"]')\n",
    "    \n",
    "    driver.execute_script(\"arguments[0].click();\", botao_voltar_pagina)"
   ]
  },
  {
   "cell_type": "code",
   "execution_count": null,
   "metadata": {},
   "outputs": [],
   "source": [
    "lista_de_tabelas_por_pagina = []\n",
    "\n",
    "for pagina in range(0, numero_paginas):\n",
    "    tabela = driver.find_element(\"xpath\", '''/html/body/div[5]/section/div/div[3]/section/div/div/div/div/div[2]/section[2]/div[2]/div/table''')\n",
    "    html_tabela = tabela.get_attribute(\"outerHTML\")\n",
    "    tabela_final = pd.read_html(html_tabela)[0]\n",
    "    # display(tabela_final)\n",
    "\n",
    "    lista_de_tabelas_por_pagina.append(tabela_final)\n",
    "\n",
    "    avancar_pagina = driver.find_element(\"xpath\", '''//*[@id=\"nextPage\"]''')\n",
    "    driver.execute_script(\"arguments[0].click()\", avancar_pagina)\n",
    "\n",
    "base_de_dados_performance = pd.concat(lista_de_tabelas_por_pagina)\n",
    "# display(base_de_dados_performance)"
   ]
  },
  {
   "cell_type": "code",
   "execution_count": null,
   "metadata": {},
   "outputs": [],
   "source": [
    "driver.quit()"
   ]
  },
  {
   "cell_type": "code",
   "execution_count": null,
   "metadata": {},
   "outputs": [],
   "source": [
    "base_de_dados_performance = base_de_dados_performance.set_index(\"Ticker\")\n",
    "base_de_dados_performance = base_de_dados_performance[['1 Year', '5 Years', '10 Years']]\n",
    "\n",
    "base_de_dados_completa = base_de_dados_completa.set_index(\"Ticker\")\n",
    "# base_de_dados_completa = base_de_dados_completa[['Issuer', 'Expense Ratio', 'AUM']]\n",
    "\n",
    "display(base_de_dados_performance, base_de_dados_completa)"
   ]
  },
  {
   "cell_type": "code",
   "execution_count": null,
   "metadata": {},
   "outputs": [],
   "source": [
    "# Tabela FINAL\n",
    "base_de_dados_final = base_de_dados_completa.join(base_de_dados_performance)\n",
    "\n",
    "display(base_de_dados_final)"
   ]
  }
 ],
 "metadata": {
  "kernelspec": {
   "display_name": "Python 3",
   "language": "python",
   "name": "python3"
  },
  "language_info": {
   "codemirror_mode": {
    "name": "ipython",
    "version": 3
   },
   "file_extension": ".py",
   "mimetype": "text/x-python",
   "name": "python",
   "nbconvert_exporter": "python",
   "pygments_lexer": "ipython3",
   "version": "3.10.9"
  },
  "orig_nbformat": 4,
  "vscode": {
   "interpreter": {
    "hash": "85c576d62e5a69baba7dcae6282c7bf6fba6f8d537c9cbb11ca984aece3c77a0"
   }
  }
 },
 "nbformat": 4,
 "nbformat_minor": 2
}
